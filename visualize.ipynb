{
 "cells": [
  {
   "cell_type": "markdown",
   "id": "52f5f70e-bca9-4ecc-9e7d-6549753640ba",
   "metadata": {},
   "source": [
    "# Visualization\n",
    "\n",
    "This notebook just visualized the **results** from the 1D calculation.\n",
    "\n",
    "We learn how to\n",
    "* Load modules\n",
    "* load the PLUTO data\n",
    "* plot results"
   ]
  },
  {
   "cell_type": "markdown",
   "source": [],
   "metadata": {
    "collapsed": false
   }
  },
  {
   "cell_type": "code",
   "execution_count": 27,
   "id": "f3e7526c-f9d1-4f59-b96b-2b040a735dd8",
   "metadata": {
    "tags": []
   },
   "outputs": [],
   "source": [
    "import profile_plotter as prp"
   ]
  },
  {
   "cell_type": "code",
   "execution_count": 28,
   "id": "ad8e3ba4-04c7-467f-8170-e2a9e3e8e0bc",
   "metadata": {},
   "outputs": [],
   "source": [
    "data_dir = '05/'\n",
    "nout = 100"
   ]
  },
  {
   "cell_type": "code",
   "execution_count": 29,
   "id": "90ba12d2-d620-48c4-ad25-4bd371ce8bd5",
   "metadata": {
    "pycharm": {
     "name": "#%%\n"
    }
   },
   "outputs": [
    {
     "name": "stdout",
     "output_type": "stream",
     "text": [
      "Reading single data file : 05/data.0000.hdf5\n",
      "Reading single data file : 05/data.0001.hdf5\n",
      "Reading single data file : 05/data.0002.hdf5\n",
      "Reading single data file : 05/data.0003.hdf5\n",
      "Reading single data file : 05/data.0004.hdf5\n",
      "Reading single data file : 05/data.0005.hdf5\n",
      "Reading single data file : 05/data.0006.hdf5\n",
      "Reading single data file : 05/data.0007.hdf5\n",
      "Reading single data file : 05/data.0008.hdf5\n",
      "Reading single data file : 05/data.0009.hdf5\n",
      "Reading single data file : 05/data.0010.hdf5\n",
      "Reading single data file : 05/data.0011.hdf5\n",
      "Reading single data file : 05/data.0012.hdf5\n",
      "Reading single data file : 05/data.0013.hdf5\n",
      "Reading single data file : 05/data.0014.hdf5\n",
      "Reading single data file : 05/data.0015.hdf5\n",
      "Reading single data file : 05/data.0016.hdf5\n",
      "Reading single data file : 05/data.0017.hdf5\n",
      "Reading single data file : 05/data.0018.hdf5\n",
      "Reading single data file : 05/data.0019.hdf5\n",
      "[congrid] dimensions error. This routine currently only support rebinning to the same number of dimensions.\n"
     ]
    },
    {
     "ename": "AttributeError",
     "evalue": "'NoneType' object has no attribute 'reshape'",
     "output_type": "error",
     "traceback": [
      "\u001B[0;31m---------------------------------------------------------------------------\u001B[0m",
      "\u001B[0;31mAttributeError\u001B[0m                            Traceback (most recent call last)",
      "\u001B[0;32m<ipython-input-29-22ef8b85211e>\u001B[0m in \u001B[0;36m<module>\u001B[0;34m\u001B[0m\n\u001B[1;32m      1\u001B[0m \u001B[0;32mfor\u001B[0m \u001B[0mi\u001B[0m \u001B[0;32min\u001B[0m \u001B[0mrange\u001B[0m\u001B[0;34m(\u001B[0m\u001B[0mnout\u001B[0m\u001B[0;34m+\u001B[0m\u001B[0;36m1\u001B[0m\u001B[0;34m)\u001B[0m\u001B[0;34m[\u001B[0m\u001B[0;34m:\u001B[0m\u001B[0;34m]\u001B[0m\u001B[0;34m:\u001B[0m\u001B[0;34m\u001B[0m\u001B[0;34m\u001B[0m\u001B[0m\n\u001B[0;32m----> 2\u001B[0;31m     \u001B[0mprp\u001B[0m\u001B[0;34m.\u001B[0m\u001B[0mplot_snapshot\u001B[0m\u001B[0;34m(\u001B[0m\u001B[0mi\u001B[0m\u001B[0;34m,\u001B[0m \u001B[0mdata_dir\u001B[0m\u001B[0;34m)\u001B[0m\u001B[0;34m\u001B[0m\u001B[0;34m\u001B[0m\u001B[0m\n\u001B[0m",
      "\u001B[0;32m~/research/lab/AGN_wind/sim/profile_plotter.py\u001B[0m in \u001B[0;36mplot_snapshot\u001B[0;34m(i, data_dir)\u001B[0m\n\u001B[1;32m     25\u001B[0m         \u001B[0mdata_dir\u001B[0m \u001B[0;34m+=\u001B[0m \u001B[0;34m'/'\u001B[0m\u001B[0;34m\u001B[0m\u001B[0;34m\u001B[0m\u001B[0m\n\u001B[1;32m     26\u001B[0m \u001B[0;34m\u001B[0m\u001B[0m\n\u001B[0;32m---> 27\u001B[0;31m     \u001B[0mdata\u001B[0m \u001B[0;34m=\u001B[0m \u001B[0mpp\u001B[0m\u001B[0;34m.\u001B[0m\u001B[0mpload\u001B[0m\u001B[0;34m.\u001B[0m\u001B[0mpload\u001B[0m\u001B[0;34m(\u001B[0m\u001B[0mi\u001B[0m\u001B[0;34m,\u001B[0m \u001B[0mdatatype\u001B[0m\u001B[0;34m=\u001B[0m\u001B[0;34m'hdf5'\u001B[0m\u001B[0;34m,\u001B[0m \u001B[0mlevel\u001B[0m\u001B[0;34m=\u001B[0m\u001B[0;36m4\u001B[0m\u001B[0;34m,\u001B[0m  \u001B[0mw_dir\u001B[0m\u001B[0;34m=\u001B[0m\u001B[0mdata_dir\u001B[0m\u001B[0;34m)\u001B[0m\u001B[0;34m\u001B[0m\u001B[0;34m\u001B[0m\u001B[0m\n\u001B[0m\u001B[1;32m     28\u001B[0m \u001B[0;34m\u001B[0m\u001B[0m\n\u001B[1;32m     29\u001B[0m     \u001B[0mfig\u001B[0m\u001B[0;34m,\u001B[0m \u001B[0max1\u001B[0m \u001B[0;34m=\u001B[0m \u001B[0mplt\u001B[0m\u001B[0;34m.\u001B[0m\u001B[0msubplots\u001B[0m\u001B[0;34m(\u001B[0m\u001B[0;34m)\u001B[0m\u001B[0;34m\u001B[0m\u001B[0;34m\u001B[0m\u001B[0m\n",
      "\u001B[0;32m~/anaconda3/lib/python3.8/site-packages/pyPLUTO-4.4.2-py3.8.egg/pyPLUTO/pload.py\u001B[0m in \u001B[0;36m__init__\u001B[0;34m(self, ns, w_dir, datatype, level, x1range, x2range, x3range)\u001B[0m\n\u001B[1;32m     63\u001B[0m                 \u001B[0mself\u001B[0m\u001B[0;34m.\u001B[0m\u001B[0mwdir\u001B[0m \u001B[0;34m=\u001B[0m \u001B[0mw_dir\u001B[0m\u001B[0;34m\u001B[0m\u001B[0;34m\u001B[0m\u001B[0m\n\u001B[1;32m     64\u001B[0m \u001B[0;34m\u001B[0m\u001B[0m\n\u001B[0;32m---> 65\u001B[0;31m                 \u001B[0mData_dictionary\u001B[0m \u001B[0;34m=\u001B[0m \u001B[0mself\u001B[0m\u001B[0;34m.\u001B[0m\u001B[0mReadDataFile\u001B[0m\u001B[0;34m(\u001B[0m\u001B[0mself\u001B[0m\u001B[0;34m.\u001B[0m\u001B[0mNStepStr\u001B[0m\u001B[0;34m)\u001B[0m\u001B[0;34m\u001B[0m\u001B[0;34m\u001B[0m\u001B[0m\n\u001B[0m\u001B[1;32m     66\u001B[0m \u001B[0;34m\u001B[0m\u001B[0m\n\u001B[1;32m     67\u001B[0m                 \u001B[0;32mfor\u001B[0m \u001B[0mkeys\u001B[0m \u001B[0;32min\u001B[0m \u001B[0mData_dictionary\u001B[0m\u001B[0;34m:\u001B[0m\u001B[0;34m\u001B[0m\u001B[0;34m\u001B[0m\u001B[0m\n",
      "\u001B[0;32m~/anaconda3/lib/python3.8/site-packages/pyPLUTO-4.4.2-py3.8.egg/pyPLUTO/pload.py\u001B[0m in \u001B[0;36mReadDataFile\u001B[0;34m(self, num)\u001B[0m\n\u001B[1;32m    595\u001B[0m                 \u001B[0;32mif\u001B[0m \u001B[0mself\u001B[0m\u001B[0;34m.\u001B[0m\u001B[0mfiletype\u001B[0m \u001B[0;34m==\u001B[0m \u001B[0;34m\"single_file\"\u001B[0m\u001B[0;34m:\u001B[0m\u001B[0;34m\u001B[0m\u001B[0;34m\u001B[0m\u001B[0m\n\u001B[1;32m    596\u001B[0m                         \u001B[0mdatafilename\u001B[0m \u001B[0;34m=\u001B[0m \u001B[0mself\u001B[0m\u001B[0;34m.\u001B[0m\u001B[0mwdir\u001B[0m\u001B[0;34m+\u001B[0m\u001B[0;34m\"data.\"\u001B[0m\u001B[0;34m+\u001B[0m\u001B[0mnstr\u001B[0m\u001B[0;34m+\u001B[0m\u001B[0mdataext\u001B[0m\u001B[0;34m\u001B[0m\u001B[0;34m\u001B[0m\u001B[0m\n\u001B[0;32m--> 597\u001B[0;31m \t\t\tself.ReadSingleFile(datafilename, self.vars, self.n1, self.n2,\n\u001B[0m\u001B[1;32m    598\u001B[0m \t\t\t\t\t\t\t\tself.n3, endian, dtype, ddict)\n\u001B[1;32m    599\u001B[0m                 \u001B[0;32melif\u001B[0m \u001B[0mself\u001B[0m\u001B[0;34m.\u001B[0m\u001B[0mfiletype\u001B[0m \u001B[0;34m==\u001B[0m \u001B[0;34m\"multiple_files\"\u001B[0m\u001B[0;34m:\u001B[0m\u001B[0;34m\u001B[0m\u001B[0;34m\u001B[0m\u001B[0m\n",
      "\u001B[0;32m~/anaconda3/lib/python3.8/site-packages/pyPLUTO-4.4.2-py3.8.egg/pyPLUTO/pload.py\u001B[0m in \u001B[0;36mReadSingleFile\u001B[0;34m(self, datafilename, myvars, n1, n2, n3, endian, dtype, ddict)\u001B[0m\n\u001B[1;32m    506\u001B[0m                         \u001B[0mddict\u001B[0m\u001B[0;34m.\u001B[0m\u001B[0mupdate\u001B[0m\u001B[0;34m(\u001B[0m\u001B[0mvtkd\u001B[0m\u001B[0;34m)\u001B[0m\u001B[0;34m\u001B[0m\u001B[0;34m\u001B[0m\u001B[0m\n\u001B[1;32m    507\u001B[0m                 \u001B[0;32melif\u001B[0m \u001B[0mself\u001B[0m\u001B[0;34m.\u001B[0m\u001B[0mdatatype\u001B[0m \u001B[0;34m==\u001B[0m \u001B[0;34m'hdf5'\u001B[0m\u001B[0;34m:\u001B[0m\u001B[0;34m\u001B[0m\u001B[0;34m\u001B[0m\u001B[0m\n\u001B[0;32m--> 508\u001B[0;31m                         \u001B[0mh5d\u001B[0m \u001B[0;34m=\u001B[0m \u001B[0mself\u001B[0m\u001B[0;34m.\u001B[0m\u001B[0mDataScanHDF5\u001B[0m\u001B[0;34m(\u001B[0m\u001B[0mfp\u001B[0m\u001B[0;34m,\u001B[0m\u001B[0mmyvars\u001B[0m\u001B[0;34m,\u001B[0m\u001B[0mself\u001B[0m\u001B[0;34m.\u001B[0m\u001B[0mlevel\u001B[0m\u001B[0;34m)\u001B[0m\u001B[0;34m\u001B[0m\u001B[0;34m\u001B[0m\u001B[0m\n\u001B[0m\u001B[1;32m    509\u001B[0m                         \u001B[0mddict\u001B[0m\u001B[0;34m.\u001B[0m\u001B[0mupdate\u001B[0m\u001B[0;34m(\u001B[0m\u001B[0mh5d\u001B[0m\u001B[0;34m)\u001B[0m\u001B[0;34m\u001B[0m\u001B[0;34m\u001B[0m\u001B[0m\n\u001B[1;32m    510\u001B[0m                 \u001B[0;32melse\u001B[0m\u001B[0;34m:\u001B[0m\u001B[0;34m\u001B[0m\u001B[0;34m\u001B[0m\u001B[0m\n",
      "\u001B[0;32m~/anaconda3/lib/python3.8/site-packages/pyPLUTO-4.4.2-py3.8.egg/pyPLUTO/pload.py\u001B[0m in \u001B[0;36mDataScanHDF5\u001B[0;34m(self, fp, myvars, ilev)\u001B[0m\n\u001B[1;32m    429\u001B[0m                                         \u001B[0;32mfor\u001B[0m \u001B[0miv\u001B[0m \u001B[0;32min\u001B[0m \u001B[0mrange\u001B[0m\u001B[0;34m(\u001B[0m\u001B[0mnvar\u001B[0m\u001B[0;34m)\u001B[0m\u001B[0;34m:\u001B[0m\u001B[0;34m\u001B[0m\u001B[0;34m\u001B[0m\u001B[0m\n\u001B[1;32m    430\u001B[0m                                                 \u001B[0mvars\u001B[0m\u001B[0;34m[\u001B[0m\u001B[0mib0\u001B[0m\u001B[0;34m-\u001B[0m\u001B[0mibeg\u001B[0m\u001B[0;34m:\u001B[0m\u001B[0mie0\u001B[0m\u001B[0;34m-\u001B[0m\u001B[0mibeg\u001B[0m\u001B[0;34m+\u001B[0m\u001B[0;36m1\u001B[0m\u001B[0;34m,\u001B[0m\u001B[0mjb0\u001B[0m\u001B[0;34m-\u001B[0m\u001B[0mjbeg\u001B[0m\u001B[0;34m:\u001B[0m\u001B[0mje0\u001B[0m\u001B[0;34m-\u001B[0m\u001B[0mjbeg\u001B[0m\u001B[0;34m+\u001B[0m\u001B[0;36m1\u001B[0m\u001B[0;34m,\u001B[0m\u001B[0mkb0\u001B[0m\u001B[0;34m-\u001B[0m\u001B[0mkbeg\u001B[0m\u001B[0;34m:\u001B[0m\u001B[0mke0\u001B[0m\u001B[0;34m-\u001B[0m\u001B[0mkbeg\u001B[0m\u001B[0;34m+\u001B[0m\u001B[0;36m1\u001B[0m\u001B[0;34m,\u001B[0m\u001B[0miv\u001B[0m\u001B[0;34m]\u001B[0m \u001B[0;34m=\u001B[0m\u001B[0;31m \u001B[0m\u001B[0;31m\\\u001B[0m\u001B[0;34m\u001B[0m\u001B[0;34m\u001B[0m\u001B[0m\n\u001B[0;32m--> 431\u001B[0;31m                                                         \u001B[0mmyT\u001B[0m\u001B[0;34m.\u001B[0m\u001B[0mcongrid\u001B[0m\u001B[0;34m(\u001B[0m\u001B[0mq1\u001B[0m\u001B[0;34m[\u001B[0m\u001B[0;34m:\u001B[0m\u001B[0;34m,\u001B[0m\u001B[0;34m:\u001B[0m\u001B[0;34m,\u001B[0m\u001B[0;34m:\u001B[0m\u001B[0;34m,\u001B[0m\u001B[0miv\u001B[0m\u001B[0;34m]\u001B[0m\u001B[0;34m.\u001B[0m\u001B[0msqueeze\u001B[0m\u001B[0;34m(\u001B[0m\u001B[0;34m)\u001B[0m\u001B[0;34m,\u001B[0m\u001B[0mnew_shape\u001B[0m\u001B[0;34m,\u001B[0m\u001B[0mmethod\u001B[0m\u001B[0;34m=\u001B[0m\u001B[0;34m'linear'\u001B[0m\u001B[0;34m,\u001B[0m\u001B[0mminusone\u001B[0m\u001B[0;34m=\u001B[0m\u001B[0;32mTrue\u001B[0m\u001B[0;34m)\u001B[0m\u001B[0;34m.\u001B[0m\u001B[0mreshape\u001B[0m\u001B[0;34m(\u001B[0m\u001B[0;34m(\u001B[0m\u001B[0mie0\u001B[0m\u001B[0;34m-\u001B[0m\u001B[0mib0\u001B[0m\u001B[0;34m+\u001B[0m\u001B[0;36m1\u001B[0m\u001B[0;34m,\u001B[0m\u001B[0mje0\u001B[0m\u001B[0;34m-\u001B[0m\u001B[0mjb0\u001B[0m\u001B[0;34m+\u001B[0m\u001B[0;36m1\u001B[0m\u001B[0;34m,\u001B[0m\u001B[0mke0\u001B[0m\u001B[0;34m-\u001B[0m\u001B[0mkb0\u001B[0m\u001B[0;34m+\u001B[0m\u001B[0;36m1\u001B[0m\u001B[0;34m)\u001B[0m\u001B[0;34m)\u001B[0m\u001B[0;34m\u001B[0m\u001B[0;34m\u001B[0m\u001B[0m\n\u001B[0m\u001B[1;32m    432\u001B[0m                                         \u001B[0mncount\u001B[0m \u001B[0;34m=\u001B[0m \u001B[0mncount\u001B[0m\u001B[0;34m+\u001B[0m\u001B[0mszb\u001B[0m\u001B[0;34m\u001B[0m\u001B[0;34m\u001B[0m\u001B[0m\n\u001B[1;32m    433\u001B[0m \u001B[0;34m\u001B[0m\u001B[0m\n",
      "\u001B[0;31mAttributeError\u001B[0m: 'NoneType' object has no attribute 'reshape'"
     ]
    }
   ],
   "source": [
    "for i in range(nout+1)[:]:\n",
    "    prp.plot_snapshot(i, data_dir)"
   ]
  },
  {
   "cell_type": "code",
   "execution_count": null,
   "outputs": [],
   "source": [
    "prp.plot_snapshot(15, data_dir)"
   ],
   "metadata": {
    "collapsed": false,
    "pycharm": {
     "name": "#%%\n"
    }
   }
  },
  {
   "cell_type": "code",
   "execution_count": null,
   "outputs": [],
   "source": [],
   "metadata": {
    "collapsed": false,
    "pycharm": {
     "name": "#%%\n"
    }
   }
  }
 ],
 "metadata": {
  "kernelspec": {
   "display_name": "Python 3",
   "language": "python",
   "name": "python3"
  },
  "language_info": {
   "codemirror_mode": {
    "name": "ipython",
    "version": 3
   },
   "file_extension": ".py",
   "mimetype": "text/x-python",
   "name": "python",
   "nbconvert_exporter": "python",
   "pygments_lexer": "ipython3",
   "version": "3.8.8"
  }
 },
 "nbformat": 4,
 "nbformat_minor": 5
}